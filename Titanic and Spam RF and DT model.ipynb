{
 "cells": [
  {
   "cell_type": "markdown",
   "metadata": {},
   "source": [
    "# Decision Tree and Random Forest Classifier for Titanic and Spam Datasets\n",
    "\n",
    "In this assignment I will attempt to make a classifier model for the Titanic and ham/spam datasets. This assignment was completed for my machine learning class at UC Berkeley. Skeleton code was provided for the decision tree and random forest implementation, however I trained and predicted the data myself."
   ]
  },
  {
   "cell_type": "code",
   "execution_count": 260,
   "metadata": {},
   "outputs": [
    {
     "name": "stderr",
     "output_type": "stream",
     "text": [
      "C:\\Users\\sebaj\\Anaconda3\\lib\\site-packages\\ipykernel_launcher.py:207: VisibleDeprecationWarning: Reading unicode strings without specifying the encoding argument is deprecated. Set the encoding, use None for the system default.\n",
      "C:\\Users\\sebaj\\Anaconda3\\lib\\site-packages\\ipykernel_launcher.py:209: VisibleDeprecationWarning: Reading unicode strings without specifying the encoding argument is deprecated. Set the encoding, use None for the system default.\n",
      "C:\\Users\\sebaj\\Anaconda3\\lib\\site-packages\\ipykernel_launcher.py:37: RuntimeWarning: invalid value encountered in long_scalars\n",
      "C:\\Users\\sebaj\\Anaconda3\\lib\\site-packages\\ipykernel_launcher.py:36: RuntimeWarning: invalid value encountered in long_scalars\n"
     ]
    },
    {
     "name": "stdout",
     "output_type": "stream",
     "text": [
      "\n",
      "\n",
      "Part (b): preprocessing the titanic dataset\n",
      "Features: [b'pclass', b'sex', b'age', b'sibsp', b'parch', b'ticket', b'fare', b'cabin', b'embarked', b'male', b'female', b'S', b'C', b'Q']\n",
      "Train/test size: (999, 14) (310, 14)\n",
      "\n",
      "\n",
      "Part 0: constant classifier\n",
      "Accuracy 0.6136136136136137\n",
      "\n",
      "\n",
      "Part (a-b): simplified decision tree\n",
      "Predictions [1. 1. 0. 0. 0. 1. 0. 0. 0. 0. 1. 1. 1. 1. 1. 1. 1. 0. 1. 0. 0. 0. 1. 1.\n",
      " 0. 0. 1. 1. 1. 0. 0. 0. 0. 0. 0. 0. 0. 0. 0. 0. 0. 1. 0. 0. 1. 0. 0. 0.\n",
      " 1. 0. 0. 0. 0. 0. 1. 1. 0. 1. 0. 0. 0. 1. 0. 0. 1. 1. 0. 1. 1. 0. 1. 0.\n",
      " 1. 0. 0. 0. 0. 0. 0. 1. 0. 0. 1. 0. 0. 0. 0. 0. 1. 0. 1. 0. 0. 1. 0. 0.\n",
      " 1. 0. 0. 0.]\n",
      "\n",
      "\n",
      "Part (c): sklearn's decision tree\n",
      "Cross validation [0.79640719 0.76576577 0.79819277]\n"
     ]
    },
    {
     "name": "stderr",
     "output_type": "stream",
     "text": [
      "C:\\Users\\sebaj\\Anaconda3\\lib\\site-packages\\sklearn\\model_selection\\_split.py:1978: FutureWarning: The default value of cv will change from 3 to 5 in version 0.22. Specify it explicitly to silence this warning.\n",
      "  warnings.warn(CV_WARNING, FutureWarning)\n"
     ]
    }
   ],
   "source": [
    "# You may want to install \"gprof2dot\"\n",
    "# skeleton code from starter code\n",
    "import io\n",
    "from collections import Counter\n",
    "\n",
    "import numpy as np\n",
    "import scipy.io\n",
    "import sklearn.model_selection\n",
    "import sklearn.tree\n",
    "from numpy import genfromtxt\n",
    "from scipy import stats\n",
    "from sklearn.base import BaseEstimator, ClassifierMixin\n",
    "\n",
    "import pydot\n",
    "\n",
    "eps = 1e-5  # a small number\n",
    "\n",
    "\n",
    "class DecisionTree:\n",
    "    def __init__(self, max_depth=3, feature_labels=None):\n",
    "        self.max_depth = max_depth\n",
    "        self.features = feature_labels\n",
    "        self.left, self.right = None, None  # for non-leaf nodes\n",
    "        self.split_idx, self.thresh = None, None  # for non-leaf nodes\n",
    "        self.data, self.pred = None, None  # for leaf nodes\n",
    "\n",
    "    @staticmethod\n",
    "    def information_gain(X, y, thresh):\n",
    "        n = y.size\n",
    "        p = np.sum(y == 0) / n\n",
    "        h_s = DecisionTree.entropy(p) + DecisionTree.entropy(1 - p) # since we only have 2 classes, we can use 1 - p for class 'D'\n",
    "        \n",
    "        left = (X < thresh)\n",
    "        right = (X >= thresh)\n",
    "        n_left = np.sum(left)\n",
    "        n_right = np.sum(right)\n",
    "        p_left = np.sum(y[left] == 0) / n_left\n",
    "        p_right = np.sum(y[right] == 0) / n_right\n",
    "        \n",
    "        h_left = DecisionTree.entropy(p_left) + DecisionTree.entropy(1 - p_left)\n",
    "        h_right = DecisionTree.entropy(p_right) + DecisionTree.entropy(1 - p_right)\n",
    "        h_after = (n_left * h_left + n_right * h_right) / n\n",
    "        return h_s - h_after\n",
    "    \n",
    "    def entropy(p):\n",
    "        if p == 0:\n",
    "            return 0\n",
    "        else:\n",
    "            return -p * np.log2(p)\n",
    "\n",
    "    @staticmethod\n",
    "    def gini_impurity(X, y, thresh):\n",
    "        # TODO implement gini_impurity function\n",
    "        pass\n",
    "\n",
    "    def split(self, X, y, idx, thresh):\n",
    "        X0, idx0, X1, idx1 = self.split_test(X, idx=idx, thresh=thresh)\n",
    "        y0, y1 = y[idx0], y[idx1]\n",
    "        return X0, y0, X1, y1\n",
    "\n",
    "    def split_test(self, X, idx, thresh):\n",
    "        idx0 = np.where(X[:, idx] < thresh)[0]\n",
    "        idx1 = np.where(X[:, idx] >= thresh)[0]\n",
    "        X0, X1 = X[idx0, :], X[idx1, :]\n",
    "        return X0, idx0, X1, idx1\n",
    "\n",
    "    def fit(self, X, y):\n",
    "        if self.max_depth > 0:\n",
    "            # compute entropy gain for all single-dimension splits,\n",
    "            # thresholding with a linear interpolation of 10 values\n",
    "            gains = []\n",
    "            # The following logic prevents thresholding on exactly the minimum\n",
    "            # or maximum values, which may not lead to any meaningful node\n",
    "            # splits.\n",
    "            thresh = np.array([\n",
    "                np.linspace(np.min(X[:, i]) + eps, np.max(X[:, i]) - eps, num=10)\n",
    "                for i in range(X.shape[1])\n",
    "            ])\n",
    "            for i in range(X.shape[1]):\n",
    "                gains.append([self.information_gain(X[:, i], y, t) for t in thresh[i, :]])\n",
    "\n",
    "            gains = np.nan_to_num(np.array(gains))\n",
    "            self.split_idx, thresh_idx = np.unravel_index(np.argmax(gains), gains.shape)\n",
    "            self.thresh = thresh[self.split_idx, thresh_idx]\n",
    "            X0, y0, X1, y1 = self.split(X, y, idx=self.split_idx, thresh=self.thresh)\n",
    "            if X0.size > 0 and X1.size > 0:\n",
    "                self.left = DecisionTree(\n",
    "                    max_depth=self.max_depth - 1, feature_labels=self.features)\n",
    "                self.left.fit(X0, y0)\n",
    "                self.right = DecisionTree(\n",
    "                    max_depth=self.max_depth - 1, feature_labels=self.features)\n",
    "                self.right.fit(X1, y1)\n",
    "            else:\n",
    "                self.max_depth = 0\n",
    "                self.data, self.labels = X, y\n",
    "                self.pred = stats.mode(y).mode[0]\n",
    "        else:\n",
    "            self.data, self.labels = X, y\n",
    "            self.pred = stats.mode(y).mode[0]\n",
    "        return self\n",
    "\n",
    "    def predict(self, X):\n",
    "        if self.max_depth == 0:\n",
    "            return self.pred * np.ones(X.shape[0])\n",
    "        else:\n",
    "            X0, idx0, X1, idx1 = self.split_test(X, idx=self.split_idx, thresh=self.thresh)\n",
    "            yhat = np.zeros(X.shape[0])\n",
    "            yhat[idx0] = self.left.predict(X0)\n",
    "            yhat[idx1] = self.right.predict(X1)\n",
    "            return yhat\n",
    "\n",
    "\n",
    "class BaggedTrees:\n",
    "    def __init__(self, n=200):\n",
    "        self.n = n\n",
    "        self.decision_trees = [\n",
    "            DecisionTree(max_depth=3, feature_labels=features)\n",
    "            for i in range(self.n)\n",
    "        ]\n",
    "\n",
    "    def fit(self, X, y):\n",
    "        for i in range(self.n):\n",
    "            index = np.random.choice(y.size, y.size, replace=True)\n",
    "            X_random = X[index]\n",
    "            y_random = y[index]\n",
    "            self.decision_trees[i].fit(X_random, y_random)\n",
    "        return self\n",
    "\n",
    "    def predict(self, X):\n",
    "        yhat = []\n",
    "        for i in range(self.n):\n",
    "            yhat.append(self.decision_trees[i].predict(X))\n",
    "        yhat = np.vstack(yhat)\n",
    "        return np.round(np.mean(yhat, axis=0))\n",
    "\n",
    "\n",
    "class RandomForest(BaggedTrees):\n",
    "    def __init__(self, n=200, m=1):\n",
    "        super().__init__(n=n)\n",
    "\n",
    "\n",
    "class BoostedRandomForest(RandomForest):\n",
    "    def fit(self, X, y):\n",
    "        self.w = np.ones(X.shape[0]) / X.shape[0]  # Weights on data\n",
    "        self.a = np.zeros(self.n)  # Weights on decision trees\n",
    "        # TODO implement function\n",
    "        return self\n",
    "\n",
    "    def predict(self, X):\n",
    "        # TODO implement function\n",
    "        pass\n",
    "\n",
    "\n",
    "def preprocess(data, fill_mode=True, min_freq=10, onehot_cols=[]):\n",
    "    # fill_mode = False\n",
    "\n",
    "    # Temporarily assign -1 to missing data\n",
    "    data[data == b''] = '-1'\n",
    "\n",
    "    # Hash the columns (used for handling strings)\n",
    "    onehot_encoding = []\n",
    "    onehot_features = []\n",
    "    for col in onehot_cols:\n",
    "        counter = Counter(data[:, col])\n",
    "        for term in counter.most_common():\n",
    "            if term[0] == b'-1':\n",
    "                continue\n",
    "            if term[-1] <= min_freq:\n",
    "                break\n",
    "            onehot_features.append(term[0])\n",
    "            onehot_encoding.append((data[:, col] == term[0]).astype(np.float))\n",
    "        data[:, col] = '0'\n",
    "    onehot_encoding = np.array(onehot_encoding).T\n",
    "    data = np.hstack([np.array(data, dtype=np.float), np.array(onehot_encoding)])\n",
    "\n",
    "    # Replace missing data with the mode value. We use the mode instead of\n",
    "    # the mean or median because this makes more sense for categorical\n",
    "    # features such as gender or cabin type, which are not ordered.\n",
    "    if fill_mode:\n",
    "        for i in range(data.shape[-1]):\n",
    "            mode = stats.mode(data[((data[:, i] < -1 - eps) +\n",
    "                                    (data[:, i] > -1 + eps))][:, i]).mode[0]\n",
    "            data[(data[:, i] > -1 - eps) * (data[:, i] < -1 + eps)][:, i] = mode\n",
    "\n",
    "    return data, onehot_features\n",
    "\n",
    "\n",
    "def evaluate(clf):\n",
    "    print(\"Cross validation\", sklearn.model_selection.cross_val_score(clf, X, y))\n",
    "    if hasattr(clf, \"decision_trees\"):\n",
    "        counter = Counter([t.tree_.feature[0] for t in clf.decision_trees])\n",
    "        first_splits = [(features[term[0]], term[1]) for term in counter.most_common()]\n",
    "        print(\"First splits\", first_splits)\n",
    "\n",
    "\n",
    "if __name__ == \"__main__\":\n",
    "    dataset = \"titanic\"\n",
    "    params = {\n",
    "        \"max_depth\": 5,\n",
    "        # \"random_state\": 6,\n",
    "        \"min_samples_leaf\": 10,\n",
    "    }\n",
    "    N = 100\n",
    "\n",
    "    if dataset == \"titanic\":\n",
    "        # Load titanic data\n",
    "        path_train = 'HW5_code/hw5_code/titanic_training.csv'\n",
    "        data = genfromtxt(path_train, delimiter=',', dtype=None)\n",
    "        path_test = 'HW5_code/hw5_code/titanic_testing_data.csv'\n",
    "        test_data = genfromtxt(path_test, delimiter=',', dtype=None)\n",
    "        y = data[1:, 0]  # label = survived\n",
    "        class_names = [\"Died\", \"Survived\"]\n",
    "\n",
    "        labeled_idx = np.where(y != b'')[0]\n",
    "        y = np.array(y[labeled_idx], dtype=np.int)\n",
    "        print(\"\\n\\nPart (b): preprocessing the titanic dataset\")\n",
    "        X, onehot_features = preprocess(data[1:, 1:], onehot_cols=[1, 5, 7, 8])\n",
    "        X = X[labeled_idx, :]\n",
    "        Z, _ = preprocess(test_data[1:, :], onehot_cols=[1, 5, 7, 8])\n",
    "        assert X.shape[1] == Z.shape[1]\n",
    "        features = list(data[0, 1:]) + onehot_features\n",
    "\n",
    "    elif dataset == \"spam\":\n",
    "        features = [\n",
    "            \"pain\", \"private\", \"bank\", \"money\", \"drug\", \"spam\", \"prescription\", \"creative\",\n",
    "            \"height\", \"featured\", \"differ\", \"width\", \"other\", \"energy\", \"business\", \"message\",\n",
    "            \"volumes\", \"revision\", \"path\", \"meter\", \"memo\", \"planning\", \"pleased\", \"record\", \"out\",\n",
    "            \"semicolon\", \"dollar\", \"sharp\", \"exclamation\", \"parenthesis\", \"square_bracket\",\n",
    "            \"ampersand\"\n",
    "        ]\n",
    "        assert len(features) == 32\n",
    "\n",
    "        # Load spam data\n",
    "        path_train = 'HW5_code/hw5_code/spam_data.mat'\n",
    "        data = scipy.io.loadmat(path_train)\n",
    "        X = data['training_data']\n",
    "        y = np.squeeze(data['training_labels'])\n",
    "        Z = data['test_data']\n",
    "        class_names = [\"Ham\", \"Spam\"]\n",
    "\n",
    "    else:\n",
    "        raise NotImplementedError(\"Dataset %s not handled\" % dataset)\n",
    "\n",
    "    print(\"Features:\", features)\n",
    "    print(\"Train/test size:\", X.shape, Z.shape)\n",
    "\n",
    "    print(\"\\n\\nPart 0: constant classifier\")\n",
    "    print(\"Accuracy\", 1 - np.sum(y) / y.size)\n",
    "\n",
    "    # Basic decision tree\n",
    "    print(\"\\n\\nPart (a-b): simplified decision tree\")\n",
    "    dt = DecisionTree(max_depth=3, feature_labels=features)\n",
    "    dt.fit(X, y)\n",
    "    print(\"Predictions\", dt.predict(Z)[:100])\n",
    "\n",
    "    print(\"\\n\\nPart (c): sklearn's decision tree\")\n",
    "    clf = sklearn.tree.DecisionTreeClassifier(random_state=0, **params)\n",
    "    clf.fit(X, y)\n",
    "    evaluate(clf)\n",
    "    out = io.StringIO()\n",
    "    sklearn.tree.export_graphviz(\n",
    "        clf, out_file=out, feature_names=features, class_names=class_names)\n",
    "    graph = pydot.graph_from_dot_data(out.getvalue())\n",
    "    pydot.graph_from_dot_data(out.getvalue())[0].write_pdf(\"%s-tree.pdf\" % dataset)\n",
    "\n",
    "    # TODO implement and evaluate parts c-h\n"
   ]
  },
  {
   "cell_type": "markdown",
   "metadata": {},
   "source": [
    "**3.3**\n",
    "\n",
    "1. For categorical data, the code seems to add a feature for each category and assigns it a 1 for the category that it has, and 0 for the others. For missing values it seems that the code replaces it with the mode of the data.\n",
    "\n",
    "2. My stopping criterion was simply a depth of 3.\n",
    "\n",
    "3. For random forests I fit each tree out of n trees to a randomly sampled tree out of that same set. Then for the prediction, I recorded each of these predictions and averaged them to get a final prediction for the whole set.\n",
    "\n"
   ]
  },
  {
   "cell_type": "code",
   "execution_count": 109,
   "metadata": {},
   "outputs": [],
   "source": [
    "#3.4\n",
    "titan_train = X[:round(X.shape[0]*.8)]\n",
    "titan_val = X[round(X.shape[0]*.8):]\n",
    "titan_train_labels = y[:round(y.size*.8)]\n",
    "titan_val_labels = y[round(y.size*.8):]\n",
    "titan_features = features"
   ]
  },
  {
   "cell_type": "code",
   "execution_count": 133,
   "metadata": {},
   "outputs": [],
   "source": [
    "#switch dataset = titanic to dataset = spam\n",
    "spam_train = X[:round(X.shape[0]*.8)]\n",
    "spam_val = X[round(X.shape[0]*.8):]\n",
    "spam_train_labels = y[:round(y.size*.8)]\n",
    "spam_val_labels = y[round(y.size*.8):]\n",
    "spam_features = features"
   ]
  },
  {
   "cell_type": "markdown",
   "metadata": {},
   "source": [
    "Here I am training and predicting the spam and titanic data using Random Forest and Decision Tree models."
   ]
  },
  {
   "cell_type": "code",
   "execution_count": 134,
   "metadata": {},
   "outputs": [
    {
     "name": "stderr",
     "output_type": "stream",
     "text": [
      "C:\\Users\\sebaj\\Anaconda3\\lib\\site-packages\\ipykernel_launcher.py:37: RuntimeWarning: invalid value encountered in long_scalars\n",
      "C:\\Users\\sebaj\\Anaconda3\\lib\\site-packages\\ipykernel_launcher.py:36: RuntimeWarning: invalid value encountered in long_scalars\n"
     ]
    }
   ],
   "source": [
    "titan_dt = DecisionTree(max_depth=3, feature_labels=titan_features)\n",
    "titan_dt.fit(titan_train, titan_train_labels)\n",
    "titan_dt_train_pred = titan_dt.predict(titan_train)\n",
    "titan_dt_val_pred = titan_dt.predict(titan_val)\n",
    "\n",
    "spam_dt = DecisionTree(max_depth=3, feature_labels=spam_features)\n",
    "spam_dt.fit(spam_train, spam_train_labels)\n",
    "spam_dt_train_pred = spam_dt.predict(spam_train)\n",
    "spam_dt_val_pred = spam_dt.predict(spam_val)\n",
    "\n",
    "titan_rf = RandomForest(n=N, m=np.int(np.sqrt(titan_train.shape[1])))\n",
    "titan_rf.fit(titan_train, titan_train_labels)\n",
    "titan_rf_train_pred = titan_rf.predict(titan_train)\n",
    "titan_rf_val_pred = titan_rf.predict(titan_val)\n",
    "\n",
    "spam_rf = RandomForest(n=N, m=np.int(np.sqrt(spam_train.shape[1])))\n",
    "spam_rf.fit(spam_train, spam_train_labels)\n",
    "spam_rf_train_pred = spam_rf.predict(spam_train)\n",
    "spam_rf_val_pred = spam_rf.predict(spam_val)"
   ]
  },
  {
   "cell_type": "code",
   "execution_count": null,
   "metadata": {},
   "outputs": [],
   "source": []
  },
  {
   "cell_type": "markdown",
   "metadata": {},
   "source": [
    "## Scores\n",
    "\n",
    "Titanic:\n",
    " - Decision Tree Training data : .796\n",
    " - Decision Tree Validation data : .8\n",
    " - Random Forest Training Data : .798\n",
    " - Random Forest Validation Data : .81\n",
    " \n",
    "Spam:\n",
    " - Decision Tree Training Data : .771\n",
    " - Decision Tree Validation Data: .890\n",
    " - Random Forest Training Data : .771\n",
    " - Random Forest Validation Data: .890"
   ]
  },
  {
   "cell_type": "code",
   "execution_count": 117,
   "metadata": {},
   "outputs": [],
   "source": [
    "def accuracy(pred, y):\n",
    "    score = 0\n",
    "    for i in range(y.size):\n",
    "        if pred[i] == y[i]:\n",
    "            score+=1\n",
    "    return score / y.size"
   ]
  },
  {
   "cell_type": "code",
   "execution_count": 135,
   "metadata": {},
   "outputs": [
    {
     "data": {
      "text/plain": [
       "0.7959949937421777"
      ]
     },
     "execution_count": 135,
     "metadata": {},
     "output_type": "execute_result"
    }
   ],
   "source": [
    "#accuracy for titanic DT training data\n",
    "accuracy(titan_dt_train_pred, titan_train_labels)"
   ]
  },
  {
   "cell_type": "code",
   "execution_count": 136,
   "metadata": {},
   "outputs": [
    {
     "data": {
      "text/plain": [
       "0.8"
      ]
     },
     "execution_count": 136,
     "metadata": {},
     "output_type": "execute_result"
    }
   ],
   "source": [
    "#accuracy for titanic DT val data\n",
    "accuracy(titan_dt_val_pred, titan_val_labels)"
   ]
  },
  {
   "cell_type": "code",
   "execution_count": 137,
   "metadata": {},
   "outputs": [
    {
     "data": {
      "text/plain": [
       "0.7984981226533167"
      ]
     },
     "execution_count": 137,
     "metadata": {},
     "output_type": "execute_result"
    }
   ],
   "source": [
    "#accuracy for titanic RF training data\n",
    "accuracy(titan_rf_train_pred, titan_train_labels)"
   ]
  },
  {
   "cell_type": "code",
   "execution_count": 138,
   "metadata": {},
   "outputs": [
    {
     "data": {
      "text/plain": [
       "0.81"
      ]
     },
     "execution_count": 138,
     "metadata": {},
     "output_type": "execute_result"
    }
   ],
   "source": [
    "#accuracy for titanic RF val data\n",
    "accuracy(titan_rf_val_pred, titan_val_labels)"
   ]
  },
  {
   "cell_type": "code",
   "execution_count": 139,
   "metadata": {},
   "outputs": [
    {
     "data": {
      "text/plain": [
       "0.7711454809086515"
      ]
     },
     "execution_count": 139,
     "metadata": {},
     "output_type": "execute_result"
    }
   ],
   "source": [
    "#accuracy for spam DT training data\n",
    "accuracy(spam_dt_train_pred, spam_train_labels)"
   ]
  },
  {
   "cell_type": "code",
   "execution_count": 140,
   "metadata": {},
   "outputs": [
    {
     "data": {
      "text/plain": [
       "0.8897485493230174"
      ]
     },
     "execution_count": 140,
     "metadata": {},
     "output_type": "execute_result"
    }
   ],
   "source": [
    "#accuracy for spam DT val data\n",
    "accuracy(spam_dt_val_pred, spam_val_labels)"
   ]
  },
  {
   "cell_type": "code",
   "execution_count": 141,
   "metadata": {},
   "outputs": [
    {
     "data": {
      "text/plain": [
       "0.7711454809086515"
      ]
     },
     "execution_count": 141,
     "metadata": {},
     "output_type": "execute_result"
    }
   ],
   "source": [
    "#accuracy for spam RF training data\n",
    "accuracy(spam_rf_train_pred, spam_train_labels)"
   ]
  },
  {
   "cell_type": "code",
   "execution_count": 142,
   "metadata": {},
   "outputs": [
    {
     "data": {
      "text/plain": [
       "0.8897485493230174"
      ]
     },
     "execution_count": 142,
     "metadata": {},
     "output_type": "execute_result"
    }
   ],
   "source": [
    "#accuracy for spam RF val data\n",
    "accuracy(spam_rf_val_pred, spam_val_labels)"
   ]
  },
  {
   "cell_type": "code",
   "execution_count": null,
   "metadata": {},
   "outputs": [],
   "source": [
    "#dataset = titanic\n",
    "rf = RandomForest(n=N, m=np.int(np.sqrt(X.shape[1])))\n",
    "rf.fit(X, y)\n",
    "titanic_pred = rf.predict(Z)\n",
    "\n",
    "#dataset = spam\n",
    "spam_pred = dt.predict(Z)\n",
    "\n",
    "from save_csv import results_to_csv\n",
    "results_to_csv(titanic_pred)\n",
    "results_to_csv(spam_pred)"
   ]
  },
  {
   "cell_type": "markdown",
   "metadata": {},
   "source": [
    "For my Kaggle submission, I used RF model for Titanic dataset, for a score of 0.77741, and then used DT model for Spam dataset for a score of 0.74748 \n",
    "\n",
    "Username: esjayy"
   ]
  },
  {
   "cell_type": "code",
   "execution_count": 245,
   "metadata": {},
   "outputs": [
    {
     "name": "stdout",
     "output_type": "stream",
     "text": [
      "28 1e-05\n",
      "19 1e-05\n",
      "0 1e-05\n",
      "0\n"
     ]
    }
   ],
   "source": [
    "#3.5.2\n",
    "print(spam_dt.split_idx, spam_dt.thresh)\n",
    "print(spam_dt.right.split_idx, spam_dt.right.thresh)\n",
    "print(spam_dt.right.right.split_idx, spam_dt.right.right.thresh)\n",
    "print(spam_dt.right.right.pred)"
   ]
  },
  {
   "cell_type": "markdown",
   "metadata": {},
   "source": [
    "Here I decided to look into some of the features that decide whether an email is ham or spam."
   ]
  },
  {
   "cell_type": "code",
   "execution_count": 246,
   "metadata": {},
   "outputs": [
    {
     "data": {
      "text/plain": [
       "('exclamation', 'meter', 'pain')"
      ]
     },
     "execution_count": 246,
     "metadata": {},
     "output_type": "execute_result"
    }
   ],
   "source": [
    "spam_features[28], spam_features[19], spam_features[0]"
   ]
  },
  {
   "cell_type": "markdown",
   "metadata": {},
   "source": [
    "exclamation < 1e-5\\\n",
    "meter < 1e-5\\\n",
    "pain < 1e-5\n",
    "\n",
    "Therefore this email is ham\n"
   ]
  },
  {
   "cell_type": "code",
   "execution_count": 244,
   "metadata": {},
   "outputs": [
    {
     "name": "stdout",
     "output_type": "stream",
     "text": [
      "28 1e-05\n",
      "19 1e-05\n",
      "31 1e-05\n",
      "1\n"
     ]
    }
   ],
   "source": [
    "print(spam_dt.split_idx, spam_dt.thresh)\n",
    "print(spam_dt.right.split_idx, spam_dt.right.thresh)\n",
    "print(spam_dt.right.left.split_idx, spam_dt.right.left.thresh)\n",
    "print(spam_dt.right.left.left.pred)"
   ]
  },
  {
   "cell_type": "code",
   "execution_count": 247,
   "metadata": {},
   "outputs": [
    {
     "data": {
      "text/plain": [
       "('exclamation', 'meter', 'ampersand')"
      ]
     },
     "execution_count": 247,
     "metadata": {},
     "output_type": "execute_result"
    }
   ],
   "source": [
    "spam_features[28], spam_features[19], spam_features[31]"
   ]
  },
  {
   "cell_type": "markdown",
   "metadata": {},
   "source": [
    "exclamation > 1e-5\\\n",
    "meter > 1e-5\\\n",
    "ampersand > 1e-5\n",
    "\n",
    "Therefore this email is spam"
   ]
  },
  {
   "cell_type": "markdown",
   "metadata": {},
   "source": [
    "# Plotting Accuracies and Decision Tree"
   ]
  },
  {
   "cell_type": "code",
   "execution_count": 253,
   "metadata": {},
   "outputs": [
    {
     "name": "stderr",
     "output_type": "stream",
     "text": [
      "C:\\Users\\sebaj\\Anaconda3\\lib\\site-packages\\ipykernel_launcher.py:37: RuntimeWarning: invalid value encountered in long_scalars\n",
      "C:\\Users\\sebaj\\Anaconda3\\lib\\site-packages\\ipykernel_launcher.py:36: RuntimeWarning: invalid value encountered in long_scalars\n"
     ]
    },
    {
     "data": {
      "text/plain": [
       "[0.8336557059961315,\n",
       " 0.8471953578336557,\n",
       " 0.8897485493230174,\n",
       " 0.8588007736943907,\n",
       " 0.8858800773694391,\n",
       " 0.8849129593810445,\n",
       " 0.8839458413926499,\n",
       " 0.8588007736943907,\n",
       " 0.8897485493230174,\n",
       " 0.9003868471953579,\n",
       " 0.8704061895551257,\n",
       " 0.8491295938104448,\n",
       " 0.8520309477756286,\n",
       " 0.8597678916827853,\n",
       " 0.8588007736943907,\n",
       " 0.8588007736943907,\n",
       " 0.8539651837524178,\n",
       " 0.8588007736943907,\n",
       " 0.8607350096711799,\n",
       " 0.8597678916827853,\n",
       " 0.8597678916827853,\n",
       " 0.8578336557059961,\n",
       " 0.8588007736943907,\n",
       " 0.8597678916827853,\n",
       " 0.8346228239845261,\n",
       " 0.8375241779497099,\n",
       " 0.8384912959381045,\n",
       " 0.8365570599613152,\n",
       " 0.8365570599613152,\n",
       " 0.8462282398452611,\n",
       " 0.8462282398452611,\n",
       " 0.8462282398452611,\n",
       " 0.8471953578336557,\n",
       " 0.8471953578336557,\n",
       " 0.8471953578336557,\n",
       " 0.8471953578336557,\n",
       " 0.8462282398452611,\n",
       " 0.8462282398452611,\n",
       " 0.8462282398452611,\n",
       " 0.8462282398452611]"
      ]
     },
     "execution_count": 253,
     "metadata": {},
     "output_type": "execute_result"
    }
   ],
   "source": [
    "#3.5.3\n",
    "accuracies = []\n",
    "for i in range(40):\n",
    "    dt = DecisionTree(max_depth = i + 1, feature_labels = spam_features)\n",
    "    dt.fit(spam_train, spam_train_labels)\n",
    "    prediction = dt.predict(spam_val)\n",
    "    accuracies.append(accuracy(prediction, spam_val_labels))\n",
    "accuracies"
   ]
  },
  {
   "cell_type": "code",
   "execution_count": 259,
   "metadata": {},
   "outputs": [
    {
     "data": {
      "text/plain": [
       "Text(0, 0.5, 'Accuracy')"
      ]
     },
     "execution_count": 259,
     "metadata": {},
     "output_type": "execute_result"
    },
    {
     "data": {
      "image/png": "[encoded data removed]",
      "text/plain": [
       "<Figure size 432x288 with 1 Axes>"
      ]
     },
     "metadata": {
      "needs_background": "light"
     },
     "output_type": "display_data"
    }
   ],
   "source": [
    "import matplotlib.pyplot as plt\n",
    "plt.plot(range(40), accuracies)\n",
    "plt.xlabel(\"Depth\")\n",
    "plt.ylabel(\"Accuracy\")"
   ]
  },
  {
   "cell_type": "markdown",
   "metadata": {},
   "source": [
    "It seems that the decision tree fluctuates a lot as the depth increases. The best performance was at around depth 10, and after that it decreases significantly and eventually somewhat flattens out."
   ]
  },
  {
   "cell_type": "code",
   "execution_count": 248,
   "metadata": {},
   "outputs": [],
   "source": [
    "#3.6\n",
    "#create a rather brute visualization that goes from right to left\n",
    "def brute_visualize_tree(dt):\n",
    "    print(dt.split_idx, dt.thresh)\n",
    "    right = dt.right\n",
    "    print(right.split_idx, right.thresh)\n",
    "    rright = right.right\n",
    "    rleft = right.left\n",
    "    print(rright.split_idx, rright.thresh)\n",
    "    print(rleft.split_idx, rleft.thresh)\n",
    "    rrright = rright.right\n",
    "    rrleft = rright.left\n",
    "    rlright = rleft.right\n",
    "    rlleft = rleft.left\n",
    "    print(rrright.pred)\n",
    "    print(rrleft.pred)\n",
    "    print(rlright.pred)\n",
    "    print(rlleft.pred)\n",
    "\n",
    "\n",
    "    left = dt.left\n",
    "    print(left.split_idx, left.thresh)\n",
    "    lright = left.right\n",
    "    lleft = left.left\n",
    "    print(lright.split_idx, lright.thresh)\n",
    "    print(lleft.split_idx, lleft.thresh)\n",
    "    lrright = lright.right\n",
    "    lrleft = lright.left\n",
    "    llright = lleft.right\n",
    "    llleft = lleft.left\n",
    "    print(lrright.pred)\n",
    "    print(lrleft.pred)\n",
    "    print(llright.pred)\n",
    "    print(llleft.pred)"
   ]
  },
  {
   "cell_type": "markdown",
   "metadata": {},
   "source": [
    "In this assignment we were not allowed to use sklearn functions, so I manually input the values to show them, resulting in this very mediocre decision tree visualization"
   ]
  },
  {
   "cell_type": "code",
   "execution_count": 250,
   "metadata": {},
   "outputs": [
    {
     "name": "stdout",
     "output_type": "stream",
     "text": [
      "9 1e-05\n",
      "0 1.00001\n",
      "3 2.6666700000000003\n",
      "11 1e-05\n",
      "0\n",
      "0\n",
      "0\n",
      "0\n",
      "0 2.11111\n",
      "6 34.77222333333333\n",
      "11 1e-05\n",
      "0\n",
      "1\n",
      "1\n",
      "1\n"
     ]
    }
   ],
   "source": [
    "brute_visualize_tree(titan_dt)"
   ]
  },
  {
   "cell_type": "markdown",
   "metadata": {},
   "source": [
    "# Conclusion\n",
    "\n",
    "Overall, this was a very fun assignment! It was interesting to see Random Forest and Decision Trees being implemented, and adding some functions myself, instead of using the functions from sklearn without really being able to see what they are doing. I could have definitely tuned some parameters or weighted some features more heavily to achieve a higher accuracy rate, but I was satisfied with my results."
   ]
  },
  {
   "cell_type": "code",
   "execution_count": null,
   "metadata": {},
   "outputs": [],
   "source": []
  }
 ],
 "metadata": {
  "kernelspec": {
   "display_name": "Python 3",
   "language": "python",
   "name": "python3"
  },
  "language_info": {
   "codemirror_mode": {
    "name": "ipython",
    "version": 3
   },
   "file_extension": ".py",
   "mimetype": "text/x-python",
   "name": "python",
   "nbconvert_exporter": "python",
   "pygments_lexer": "ipython3",
   "version": "3.7.4"
  }
 },
 "nbformat": 4,
 "nbformat_minor": 2
}
